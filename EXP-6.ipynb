{
 "cells": [
  {
   "cell_type": "code",
   "execution_count": 1,
   "id": "25ce8cf1-0a43-475a-b164-e1c047a0de76",
   "metadata": {},
   "outputs": [
    {
     "name": "stdout",
     "output_type": "stream",
     "text": [
      "T-statistic: -3.9953431435565956\n",
      "P-value: 9.106540086305264e-05\n",
      "Reject the null hypothesis: There is a significant difference between the populations.\n"
     ]
    }
   ],
   "source": [
    "# Importing necessary libraries\n",
    "import numpy as np\n",
    "from scipy import stats\n",
    "\n",
    "# Generating sample data\n",
    "np.random.seed(42)  # For reproducibility\n",
    "sample1 = np.random.normal(loc=10, scale=5, size=100)  # Sample data from population 1\n",
    "sample2 = np.random.normal(loc=12, scale=5, size=100)  # Sample data from population 2\n",
    "\n",
    "# Performing a two-sample t-test\n",
    "t_statistic, p_value = stats.ttest_ind(sample1, sample2)\n",
    "\n",
    "# Displaying the results\n",
    "print(\"T-statistic:\", t_statistic)\n",
    "print(\"P-value:\", p_value)\n",
    "\n",
    "# Interpreting the results\n",
    "alpha = 0.05  # Significance level\n",
    "if p_value < alpha:\n",
    "    print(\"Reject the null hypothesis: There is a significant difference between the populations.\")\n",
    "else:\n",
    "    print(\"Fail to reject the null hypothesis: There is no significant difference between the populations.\")\n"
   ]
  },
  {
   "cell_type": "code",
   "execution_count": null,
   "id": "12cb08da-614c-416e-bc1e-1f4f2a094a60",
   "metadata": {},
   "outputs": [],
   "source": []
  }
 ],
 "metadata": {
  "kernelspec": {
   "display_name": "Python 3 (ipykernel)",
   "language": "python",
   "name": "python3"
  },
  "language_info": {
   "codemirror_mode": {
    "name": "ipython",
    "version": 3
   },
   "file_extension": ".py",
   "mimetype": "text/x-python",
   "name": "python",
   "nbconvert_exporter": "python",
   "pygments_lexer": "ipython3",
   "version": "3.12.1"
  }
 },
 "nbformat": 4,
 "nbformat_minor": 5
}
