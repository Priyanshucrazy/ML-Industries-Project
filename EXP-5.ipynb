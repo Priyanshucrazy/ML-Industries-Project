{
 "cells": [
  {
   "cell_type": "code",
   "execution_count": 1,
   "id": "a3c337e8-40ec-4880-a969-801f3b84859f",
   "metadata": {
    "tags": []
   },
   "outputs": [
    {
     "name": "stdout",
     "output_type": "stream",
     "text": [
      "Z-score: 10.00\n",
      "P-value: 0.0000\n"
     ]
    }
   ],
   "source": [
    "from scipy.stats import norm\n",
    "\n",
    "# Sample data\n",
    "sample_mean = 25\n",
    "population_mean = 20\n",
    "population_std = 5\n",
    "sample_size = 100\n",
    "\n",
    "# Calculate the z-score\n",
    "z_score = (sample_mean - population_mean) / (population_std / (sample_size ** 0.5))\n",
    "\n",
    "# Calculate the p-value (two-tailed test)\n",
    "p_value = 2 * (1 - norm.cdf(abs(z_score)))\n",
    "\n",
    "print(f\"Z-score: {z_score:.2f}\")\n",
    "print(f\"P-value: {p_value:.4f}\")"
   ]
  },
  {
   "cell_type": "code",
   "execution_count": 8,
   "id": "33414de8-2693-4ca8-bd0a-2dec9ba49c9b",
   "metadata": {
    "tags": []
   },
   "outputs": [
    {
     "name": "stdout",
     "output_type": "stream",
     "text": [
      "T-statistic: 8.03\n",
      "P-value: 0.0000\n"
     ]
    }
   ],
   "source": [
    "from scipy.stats import ttest_1samp\n",
    "import numpy as np\n",
    "# Sample data\n",
    "sample_mean = 25\n",
    "population_mean = 20\n",
    "sample_std = 6\n",
    "sample_size = 100\n",
    "\n",
    "# Generate sample data\n",
    "np.random.seed(42)  # for reproducibility\n",
    "sample_data = np.random.normal(loc=sample_mean, scale=sample_std, size=sample_size)\n",
    "\n",
    "# Perform the one-sample t-test\n",
    "t_statistic, p_value = ttest_1samp(a=sample_data, popmean=population_mean)\n",
    "\n",
    "print(f\"T-statistic: {t_statistic:.2f}\")\n",
    "print(f\"P-value: {p_value:.4f}\")"
   ]
  },
  {
   "cell_type": "code",
   "execution_count": 9,
   "id": "228cc107-db0e-483e-a487-5f1037b43240",
   "metadata": {
    "tags": []
   },
   "outputs": [
    {
     "name": "stdout",
     "output_type": "stream",
     "text": [
      "Z-score: 10.00\n",
      "P-value: 0.0000\n"
     ]
    }
   ],
   "source": [
    "import numpy as np\n",
    "\n",
    "def z_test(sample_mean, population_mean, population_std, sample_size):\n",
    "    # Calculate z-score\n",
    "    z_score = (sample_mean - population_mean) / (population_std / (sample_size**0.5))\n",
    "    \n",
    "    # Calculate p-value (two-tailed test)\n",
    "    p_value = 2 * (1 - norm.cdf(abs(z_score)))\n",
    "    \n",
    "    return z_score, p_value\n",
    "\n",
    "# Sample data\n",
    "sample_mean = 25\n",
    "population_mean = 20\n",
    "population_std = 5\n",
    "sample_size = 100\n",
    "\n",
    "# Perform z-test\n",
    "z_score, p_value = z_test(sample_mean, population_mean, population_std, sample_size)\n",
    "\n",
    "print(f\"Z-score: {z_score:.2f}\")\n",
    "print(f\"P-value: {p_value:.4f}\")\n"
   ]
  },
  {
   "cell_type": "code",
   "execution_count": 11,
   "id": "4d8e240f-5aa3-4cd8-8908-001d1c477a5f",
   "metadata": {
    "tags": []
   },
   "outputs": [
    {
     "name": "stdout",
     "output_type": "stream",
     "text": [
      "T-statistic: 8.03\n",
      "P-value: 0.0000\n"
     ]
    }
   ],
   "source": [
    "import numpy as np\n",
    "from scipy.stats import t\n",
    "\n",
    "def t_test(sample_data, population_mean):\n",
    "    sample_size = len(sample_data)\n",
    "    sample_mean = np.mean(sample_data)\n",
    "    sample_std = np.std(sample_data, ddof=1)  # ddof=1 for sample standard deviation\n",
    "    \n",
    "    # Calculate t-statistic\n",
    "    t_statistic = (sample_mean - population_mean) / (sample_std / (sample_size**0.5))\n",
    "    \n",
    "    # Calculate p-value\n",
    "    degrees_of_freedom = sample_size - 1\n",
    "    p_value = 2 * (1 - t.cdf(abs(t_statistic), df=degrees_of_freedom))\n",
    "    \n",
    "    return t_statistic, p_value\n",
    "\n",
    "# Sample data\n",
    "sample_mean = 25\n",
    "population_mean = 20\n",
    "sample_size = 100\n",
    "np.random.seed(42)  # for reproducibility\n",
    "sample_data = np.random.normal(loc=sample_mean, scale=6, size=sample_size)\n",
    "\n",
    "# Perform t-test\n",
    "t_statistic, p_value = t_test(sample_data, population_mean)\n",
    "\n",
    "print(f\"T-statistic: {t_statistic:.2f}\")\n",
    "print(f\"P-value: {p_value:.4f}\")\n"
   ]
  },
  {
   "cell_type": "code",
   "execution_count": null,
   "id": "358b3fbd-15d4-4bb6-88e8-71920128a655",
   "metadata": {},
   "outputs": [],
   "source": []
  }
 ],
 "metadata": {
  "kernelspec": {
   "display_name": "Python 3 (ipykernel)",
   "language": "python",
   "name": "python3"
  },
  "language_info": {
   "codemirror_mode": {
    "name": "ipython",
    "version": 3
   },
   "file_extension": ".py",
   "mimetype": "text/x-python",
   "name": "python",
   "nbconvert_exporter": "python",
   "pygments_lexer": "ipython3",
   "version": "3.12.1"
  }
 },
 "nbformat": 4,
 "nbformat_minor": 5
}
